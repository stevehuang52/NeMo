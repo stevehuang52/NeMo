{
 "cells": [
  {
   "cell_type": "code",
   "execution_count": 1,
   "metadata": {},
   "outputs": [],
   "source": [
    "from pathlib import Path\n",
    "import json\n",
    "import librosa\n",
    "import math\n",
    "from typing import List\n",
    "from tqdm import tqdm\n",
    "from multiprocessing import Pool\n",
    "max_duration = 20.0\n",
    "\n",
    "def load_manifest(filepath):\n",
    "    data = []\n",
    "    with Path(filepath).open(\"r\") as fin:\n",
    "        for line in fin.readlines():\n",
    "            line = line.strip()\n",
    "            if not line:\n",
    "                continue\n",
    "            data.append(json.loads(line))\n",
    "    return data\n",
    "\n",
    "def get_durations(data):\n",
    "    results = []\n",
    "    for item in data:\n",
    "        results.append(item[\"duration\"])\n",
    "    return results\n",
    "\n",
    "def save_manifest(data, filepath):\n",
    "    with Path(filepath).open(\"w\") as fout:\n",
    "        for item in data:\n",
    "            fout.write(f\"{json.dumps(item)}\\n\")\n",
    "\n",
    "def get_labels(data):\n",
    "    results = []\n",
    "    for item in data:\n",
    "        labels = item['label'].split()\n",
    "        results.append(labels)\n",
    "    return results"
   ]
  },
  {
   "cell_type": "code",
   "execution_count": 2,
   "metadata": {},
   "outputs": [],
   "source": [
    "musan_path = Path(\"/media/data/datasets/vad_sd/musan\")\n",
    "freesound_path = Path(\"/media/data/datasets/vad_sd/freesound\")"
   ]
  },
  {
   "cell_type": "code",
   "execution_count": 3,
   "metadata": {},
   "outputs": [
    {
     "name": "stdout",
     "output_type": "stream",
     "text": [
      "1590\n",
      "7741\n"
     ]
    }
   ],
   "source": [
    "musan_files = list(musan_path.glob(\"**/*.wav\"))\n",
    "print(len(musan_files))\n",
    "freesound_files = list(freesound_path.glob(\"**/*.wav\"))\n",
    "print(len(freesound_files))"
   ]
  },
  {
   "cell_type": "code",
   "execution_count": 4,
   "metadata": {},
   "outputs": [],
   "source": [
    "def build_manifest(audio_files: List[Path], max_duration: float, sample_rate: int = 16000, frame_length: float = 0.01) -> List[dict]:\n",
    "    data = []\n",
    "    for audio_file in tqdm(audio_files, total=len(audio_files)):\n",
    "        if not audio_file.exists():\n",
    "            print(f\"File not found: {audio_file}\")\n",
    "            continue\n",
    "        y, orig_sr = librosa.load(audio_file)\n",
    "        y = librosa.resample(y, orig_sr=orig_sr, target_sr=sample_rate)\n",
    "        total_duration = librosa.get_duration(y=y, sr=sample_rate)\n",
    "        offset = 0.0\n",
    "        N = math.ceil(total_duration / max_duration)\n",
    "        for i in range(N):\n",
    "            if N == 1:\n",
    "                dur = total_duration\n",
    "            elif i == N - 1:\n",
    "                dur = total_duration % max_duration\n",
    "            else:\n",
    "                dur = max_duration\n",
    "            label = \" \".join([\"0\"] * math.ceil(dur / frame_length))\n",
    "            entry = {\n",
    "                \"audio_filepath\": str(audio_file.absolute()),\n",
    "                \"text\": \"_\",\n",
    "                \"offset\": offset,\n",
    "                \"duration\": dur,\n",
    "                \"label\": label, \n",
    "            }\n",
    "            data.append(entry)\n",
    "            offset += max_duration\n",
    "    return data\n",
    "\n",
    "def build_noise_aug_manifest(audio_files: List[Path]) -> List[dict]:\n",
    "    data = []\n",
    "    for audio_file in tqdm(audio_files, total=len(audio_files)):\n",
    "        if not audio_file.exists():\n",
    "            print(f\"File not found: {audio_file}\")\n",
    "            continue\n",
    "        y, orig_sr = librosa.load(audio_file)\n",
    "        duration = librosa.get_duration(y=y, sr=orig_sr)\n",
    "        offset = 0.0\n",
    "        entry = {\n",
    "            \"audio_filepath\": str(audio_file.absolute()),\n",
    "            \"text\": \"_\",\n",
    "            \"offset\": 0.0,\n",
    "            \"duration\": duration,\n",
    "            \"label\": \"background\", \n",
    "        }\n",
    "        data.append(entry)\n",
    "    return data\n",
    "\n",
    "        "
   ]
  },
  {
   "cell_type": "code",
   "execution_count": 18,
   "metadata": {},
   "outputs": [
    {
     "name": "stderr",
     "output_type": "stream",
     "text": [
      "100%|██████████| 1590/1590 [15:33<00:00,  1.70it/s]\n"
     ]
    }
   ],
   "source": [
    "musan_manifest = build_manifest(musan_files, max_duration=max_duration)"
   ]
  },
  {
   "cell_type": "code",
   "execution_count": 19,
   "metadata": {},
   "outputs": [],
   "source": [
    "save_manifest(musan_manifest, \"musan_all.json\")"
   ]
  },
  {
   "cell_type": "code",
   "execution_count": 30,
   "metadata": {},
   "outputs": [],
   "source": [
    "def process_fn(x):\n",
    "    audio_file, max_duration, sample_rate, frame_length = x\n",
    "    res = []\n",
    "    if not audio_file.exists():\n",
    "        print(f\"File not found: {audio_file}\")\n",
    "        return []\n",
    "    y, orig_sr = librosa.load(audio_file)\n",
    "    y = librosa.resample(y, orig_sr=orig_sr, target_sr=sample_rate)\n",
    "    total_duration = librosa.get_duration(y=y, sr=sample_rate)\n",
    "    offset = 0.0\n",
    "    N = math.ceil(total_duration / max_duration)\n",
    "    for i in range(N):\n",
    "        if N == 1:\n",
    "            dur = total_duration\n",
    "        elif i == N - 1:\n",
    "            dur = total_duration % max_duration\n",
    "        else:\n",
    "            dur = max_duration\n",
    "        label = \" \".join([\"0\"] * math.ceil(dur / frame_length))\n",
    "        entry = {\n",
    "            \"audio_filepath\": str(audio_file.absolute()),\n",
    "            \"text\": \"_\",\n",
    "            \"offset\": offset,\n",
    "            \"duration\": dur,\n",
    "            \"label\": label, \n",
    "        }\n",
    "        res.append(entry)\n",
    "        offset += max_duration\n",
    "    return res\n",
    "\n",
    "def build_manifest_mp(audio_files: List[Path], max_duration: float, sample_rate: int = 16000, frame_length: float = 0.01) -> List[dict]:\n",
    "    data = []\n",
    "    queue = []\n",
    "    for afile in audio_files:\n",
    "        queue.append((afile, max_duration, sample_rate, frame_length))\n",
    "    with Pool(processes=20) as pool:\n",
    "        results = list(tqdm(pool.imap(process_fn, queue), total=len(queue)))\n",
    "    \n",
    "    for res in results:\n",
    "        data += res\n",
    "    return data\n"
   ]
  },
  {
   "cell_type": "code",
   "execution_count": 31,
   "metadata": {},
   "outputs": [
    {
     "name": "stderr",
     "output_type": "stream",
     "text": [
      "100%|██████████| 7741/7741 [1:10:19<00:00,  1.83it/s]\n"
     ]
    }
   ],
   "source": [
    "freesound_manifest = build_manifest_mp(freesound_files, max_duration=max_duration)"
   ]
  },
  {
   "cell_type": "code",
   "execution_count": 33,
   "metadata": {},
   "outputs": [],
   "source": [
    "save_manifest(freesound_manifest, \"freesound_all.json\")"
   ]
  },
  {
   "cell_type": "code",
   "execution_count": 5,
   "metadata": {},
   "outputs": [
    {
     "name": "stderr",
     "output_type": "stream",
     "text": [
      "100%|██████████| 1590/1590 [06:29<00:00,  4.09it/s]\n"
     ]
    }
   ],
   "source": [
    "musan_manifest2 = build_noise_aug_manifest(musan_files)\n",
    "save_manifest(musan_manifest2, \"noise_musan_all.json\")"
   ]
  },
  {
   "cell_type": "code",
   "execution_count": 7,
   "metadata": {},
   "outputs": [
    {
     "name": "stderr",
     "output_type": "stream",
     "text": [
      "100%|██████████| 7741/7741 [27:15<00:00,  4.73it/s]  \n"
     ]
    }
   ],
   "source": [
    "def process_fn2(x):\n",
    "    audio_file = x\n",
    "    if not audio_file.exists():\n",
    "        print(f\"File not found: {audio_file}\")\n",
    "        return {}\n",
    "    y, orig_sr = librosa.load(audio_file)\n",
    "    duration = librosa.get_duration(y=y, sr=orig_sr)\n",
    "    entry = {\n",
    "        \"audio_filepath\": str(audio_file.absolute()),\n",
    "        \"text\": \"_\",\n",
    "        \"offset\": 0.0,\n",
    "        \"duration\": duration,\n",
    "        \"label\": \"background\", \n",
    "    }\n",
    "    return entry\n",
    "\n",
    "def build_manifest_mp2(audio_files: List[Path]) -> List[dict]:\n",
    "    with Pool(processes=20) as pool:\n",
    "        results = list(tqdm(pool.imap(process_fn2, audio_files), total=len(audio_files)))\n",
    "    return results\n",
    "\n",
    "freesound_manifest2 = build_manifest_mp2(freesound_files)\n",
    "save_manifest(freesound_manifest2, \"noise_freesound_all.json\")"
   ]
  },
  {
   "cell_type": "code",
   "execution_count": null,
   "metadata": {},
   "outputs": [],
   "source": []
  },
  {
   "cell_type": "code",
   "execution_count": null,
   "metadata": {},
   "outputs": [],
   "source": []
  }
 ],
 "metadata": {
  "kernelspec": {
   "display_name": "develop",
   "language": "python",
   "name": "python3"
  },
  "language_info": {
   "codemirror_mode": {
    "name": "ipython",
    "version": 3
   },
   "file_extension": ".py",
   "mimetype": "text/x-python",
   "name": "python",
   "nbconvert_exporter": "python",
   "pygments_lexer": "ipython3",
   "version": "3.8.13 (default, Mar 28 2022, 11:38:47) \n[GCC 7.5.0]"
  },
  "orig_nbformat": 4,
  "vscode": {
   "interpreter": {
    "hash": "2bf5878059d4e9c1f9c41bd997ee15b5cf7f5fa7f22eb5fb573f4f61b5eb976a"
   }
  }
 },
 "nbformat": 4,
 "nbformat_minor": 2
}
