{
 "cells": [
  {
   "cell_type": "code",
   "execution_count": 3,
   "metadata": {},
   "outputs": [],
   "source": [
    "import json\n",
    "from pathlib import Path\n",
    "\n",
    "from matplotlib import pyplot as plt\n",
    "%matplotlib inline\n",
    "\n",
    "import seaborn as sns\n",
    "\n",
    "def load_manifest(filepath):\n",
    "    data = []\n",
    "    with Path(filepath).open(\"r\") as fin:\n",
    "        for line in fin.readlines():\n",
    "            line = line.strip()\n",
    "            if not line:\n",
    "                continue\n",
    "            data.append(json.loads(line))\n",
    "    return data\n",
    "\n",
    "def get_durations(data):\n",
    "    results = []\n",
    "    for item in data:\n",
    "        results.append(item[\"duration\"])\n",
    "    return results\n",
    "\n",
    "def save_manifest(data, filepath):\n",
    "    with Path(filepath).open(\"w\") as fout:\n",
    "        for item in data:\n",
    "            fout.write(f\"{json.dumps(item)}\\n\")\n",
    "\n",
    "def get_labels(data):\n",
    "    results = []\n",
    "    for item in data:\n",
    "        labels = item['label'].split()\n",
    "        results.append(labels)\n",
    "    return results\n",
    "\n",
    "def get_concat_labels(data):\n",
    "    results = []\n",
    "    for item in data:\n",
    "        labels = item['label'].split()\n",
    "        results += labels\n",
    "    return results"
   ]
  },
  {
   "cell_type": "code",
   "execution_count": 7,
   "metadata": {},
   "outputs": [
    {
     "name": "stdout",
     "output_type": "stream",
     "text": [
      "[PosixPath('/media/data/projects/NeMo-vad/project/manifests_draco/french_train_40ms.json'), PosixPath('/media/data/projects/NeMo-vad/project/manifests_draco/german_train_40ms.json'), PosixPath('/media/data/projects/NeMo-vad/project/manifests_draco/mandarin_train_40ms.json'), PosixPath('/media/data/projects/NeMo-vad/project/manifests_draco/russian_train_40ms.json'), PosixPath('/media/data/projects/NeMo-vad/project/manifests_draco/spanish_train_40ms.json')]\n"
     ]
    }
   ],
   "source": [
    "manifests_dir = Path(\"/media/data/projects/NeMo-vad/project/manifests_draco/\")\n",
    "manifests_list = list(manifests_dir.glob(\"*.json\"))\n",
    "manifests_list = [x for x in manifests_list if \"train\" in str(x)]\n",
    "print(manifests_list)"
   ]
  },
  {
   "cell_type": "code",
   "execution_count": 9,
   "metadata": {},
   "outputs": [
    {
     "data": {
      "text/plain": [
       "'french_train_40ms.json'"
      ]
     },
     "execution_count": 9,
     "metadata": {},
     "output_type": "execute_result"
    }
   ],
   "source": [
    "durations = []\n",
    "for manifest in manifests_list:\n",
    "    data = load_manifest(manifest)\n",
    "    durations_i = get_durations(data)\n",
    "    sns.displot(durations_i)"
   ]
  },
  {
   "cell_type": "code",
   "execution_count": 2,
   "metadata": {},
   "outputs": [
    {
     "name": "stdout",
     "output_type": "stream",
     "text": [
      "['../manifests_cleaned/train/ami_train_40ms_local_cleaned.json', '../manifests_cleaned/train/fisher_2004_40ms_local_cleaned_train.json', '../manifests_cleaned/train/fisher_2005_40ms_local_cleaned_train.json', '../manifests_cleaned/train/freesound_train_262h.json', '../manifests_cleaned/train/french_train_40ms_local_cleaned.json', '../manifests_cleaned/train/german_train_40ms_local_cleaned.json', '../manifests_cleaned/train/icsi_all_40ms_local_train_cleaned.json', '../manifests_cleaned/train/mandarin_train_40ms_local_cleaned.json', '../manifests_cleaned/train/musan_train_44h.json', '../manifests_cleaned/train/russian_train_40ms_local_cleaned.json', '../manifests_cleaned/train/spanish_train_40ms_local_cleaned.json']\n"
     ]
    }
   ],
   "source": [
    "manifests_list = sorted([str(x) for x in Path(\"../manifests_cleaned/train\").glob(\"*train*.json\")])\n",
    "print(manifests_list)"
   ]
  },
  {
   "cell_type": "code",
   "execution_count": 4,
   "metadata": {},
   "outputs": [
    {
     "name": "stdout",
     "output_type": "stream",
     "text": [
      "0.421594333078971 0.578405666921029\n",
      "2.3719483909967187 1.7288903916228957\n"
     ]
    }
   ],
   "source": [
    "from collections import Counter\n",
    "\n",
    "all_data = []\n",
    "all_labels = []\n",
    "\n",
    "for manifest in manifests_list:\n",
    "    data = load_manifest(manifest)\n",
    "    all_data += data\n",
    "    all_labels += get_concat_labels(data)\n",
    "\n",
    "counter = Counter(all_labels)\n",
    "zeros = counter['0']\n",
    "ones = counter['1']\n",
    "total = zeros + ones\n",
    "print(zeros/total, ones/total)\n",
    "print(total/zeros, total/ones)\n",
    "# output_file = \"../manifests_cleaned/train_manifest.json\"\n",
    "# save_manifest(all_data, output_file)\n",
    "# print(\"Done\")"
   ]
  },
  {
   "cell_type": "code",
   "execution_count": 5,
   "metadata": {},
   "outputs": [],
   "source": [
    "train_data = load_manifest(\"../manifests_cleaned/train_manifest.json\")\n",
    "train_labels = get_labels(train_data)"
   ]
  },
  {
   "cell_type": "code",
   "execution_count": 7,
   "metadata": {},
   "outputs": [
    {
     "name": "stdout",
     "output_type": "stream",
     "text": [
      "0.18365361504543226 0.8163463849545677\n",
      "5.44503302999301 1.224970206802169\n"
     ]
    }
   ],
   "source": [
    "from collections import Counter\n",
    "all_train_labels = []\n",
    "for labels in train_labels:\n",
    "    all_train_labels += labels\n",
    "counter = Counter(all_train_labels)\n",
    "zeros = counter['0']\n",
    "ones = counter['1']\n",
    "total = zeros + ones\n",
    "print(zeros/total, ones/total)\n",
    "print(total/zeros, total/ones)"
   ]
  },
  {
   "cell_type": "code",
   "execution_count": null,
   "metadata": {},
   "outputs": [],
   "source": []
  }
 ],
 "metadata": {
  "kernelspec": {
   "display_name": "Python 3 (ipykernel)",
   "language": "python",
   "name": "python3"
  },
  "language_info": {
   "codemirror_mode": {
    "name": "ipython",
    "version": 3
   },
   "file_extension": ".py",
   "mimetype": "text/x-python",
   "name": "python",
   "nbconvert_exporter": "python",
   "pygments_lexer": "ipython3",
   "version": "3.8.13"
  },
  "orig_nbformat": 4,
  "vscode": {
   "interpreter": {
    "hash": "2bf5878059d4e9c1f9c41bd997ee15b5cf7f5fa7f22eb5fb573f4f61b5eb976a"
   }
  }
 },
 "nbformat": 4,
 "nbformat_minor": 2
}
