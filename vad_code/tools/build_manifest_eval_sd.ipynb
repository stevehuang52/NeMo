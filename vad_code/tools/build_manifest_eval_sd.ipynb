{
 "cells": [
  {
   "cell_type": "code",
   "execution_count": 9,
   "metadata": {},
   "outputs": [],
   "source": [
    "from pathlib import Path\n",
    "from typing import List\n",
    "import numpy as np\n",
    "import json\n",
    "import librosa\n",
    "\n",
    "from nemo.collections.asr.parts.utils.manifest_utils import write_manifest, read_manifest\n",
    "from nemo.collections.asr.parts.utils.vad_utils import load_speech_segments_from_rttm\n",
    "\n",
    "data_root = Path(\"/media/data/datasets/sd_eval\")\n",
    "output_dir = Path(\"../manifests_sd_eval_40ms\")\n",
    "output_dir.mkdir(exist_ok=True)\n",
    "prefix_src = \"/home/taejinp/gdrive/datasets/riva_nemo_sd_eval_data/\"\n",
    "prefix_tgt = \"/media/data/datasets/sd_eval/\"\n",
    "frame_length_secs = 0.04\n",
    "\n",
    "def get_frame_labels(segments: List[List[float]], frame_length: float, offset: float, duration: float) -> str:\n",
    "    labels = []\n",
    "    n_frames = int(np.ceil(duration / frame_length))\n",
    "    sid = 0\n",
    "    for i in range(n_frames):\n",
    "        t = offset + i * frame_length\n",
    "        while sid < len(segments) - 1 and segments[sid][1] < t:\n",
    "            sid += 1\n",
    "        if segments[sid][0] <= t <= segments[sid][1]:\n",
    "            labels.append('1')\n",
    "        else:\n",
    "            labels.append('0')\n",
    "    return ' '.join(labels)\n",
    "\n",
    "def change_prefix(manifest_entry):\n",
    "    for key,val in manifest_entry.items():\n",
    "        if isinstance(val, str) and val.startswith(prefix_src):\n",
    "            manifest_entry[key] = val.replace(prefix_src, prefix_tgt)\n",
    "    return manifest_entry\n"
   ]
  },
  {
   "cell_type": "code",
   "execution_count": 10,
   "metadata": {},
   "outputs": [
    {
     "name": "stdout",
     "output_type": "stream",
     "text": [
      "22\n",
      "/media/data/datasets/sd_eval/DIHARD3/domain_manifests/dh3_eval_broadcast_interview_manifest.json\n",
      "/media/data/datasets/sd_eval/DIHARD3/domain_manifests/dh3_dev_broadcast_interview_manifest.json\n",
      "/media/data/datasets/sd_eval/DIHARD3/domain_manifests/dh3_eval_socio_field_manifest.json\n",
      "/media/data/datasets/sd_eval/DIHARD3/domain_manifests/dh3_eval_clinical_manifest.json\n",
      "/media/data/datasets/sd_eval/DIHARD3/domain_manifests/dh3_dev_clinical_manifest.json\n",
      "/media/data/datasets/sd_eval/DIHARD3/domain_manifests/dh3_eval_cts_manifest.json\n",
      "/media/data/datasets/sd_eval/DIHARD3/domain_manifests/dh3_dev_socio_lab_manifest.json\n",
      "/media/data/datasets/sd_eval/DIHARD3/domain_manifests/dh3_dev_webvideo_manifest.json\n",
      "/media/data/datasets/sd_eval/DIHARD3/domain_manifests/dh3_dev_restaurant_manifest.json\n",
      "/media/data/datasets/sd_eval/DIHARD3/domain_manifests/dh3_eval_maptask_manifest.json\n",
      "/media/data/datasets/sd_eval/DIHARD3/domain_manifests/dh3_dev_socio_field_manifest.json\n",
      "/media/data/datasets/sd_eval/DIHARD3/domain_manifests/dh3_dev_meeting_manifest.json\n",
      "/media/data/datasets/sd_eval/DIHARD3/domain_manifests/dh3_dev_court_manifest.json\n",
      "/media/data/datasets/sd_eval/DIHARD3/domain_manifests/dh3_eval_socio_lab_manifest.json\n",
      "/media/data/datasets/sd_eval/DIHARD3/domain_manifests/dh3_eval_restaurant_manifest.json\n",
      "/media/data/datasets/sd_eval/DIHARD3/domain_manifests/dh3_dev_cts_manifest.json\n",
      "/media/data/datasets/sd_eval/DIHARD3/domain_manifests/dh3_eval_court_manifest.json\n",
      "/media/data/datasets/sd_eval/DIHARD3/domain_manifests/dh3_eval_audiobooks_manifest.json\n",
      "/media/data/datasets/sd_eval/DIHARD3/domain_manifests/dh3_dev_audiobooks_manifest.json\n",
      "/media/data/datasets/sd_eval/DIHARD3/domain_manifests/dh3_eval_meeting_manifest.json\n",
      "/media/data/datasets/sd_eval/DIHARD3/domain_manifests/dh3_eval_webvideo_manifest.json\n",
      "/media/data/datasets/sd_eval/DIHARD3/domain_manifests/dh3_dev_maptask_manifest.json\n"
     ]
    }
   ],
   "source": [
    "input_dir = data_root / Path(\"DIHARD3/domain_manifests\")\n",
    "input_list = list(input_dir.glob(\"*.json\"))\n",
    "print(len(input_list))\n",
    "for manifest_file in input_list:\n",
    "    print(manifest_file)\n",
    "    manifest_data = read_manifest(str(manifest_file))\n",
    "    new_manifest_data = []\n",
    "    for entry in manifest_data:\n",
    "        entry = change_prefix(entry)\n",
    "        segments = load_speech_segments_from_rttm(entry['rttm_filepath'])\n",
    "        if  entry['duration'] is None:\n",
    "            entry['duration'] = librosa.get_duration(filename=entry['audio_filepath'])\n",
    "        if 'offset' not in entry or entry['offset'] is None:\n",
    "            entry['offset'] = 0.0\n",
    "        entry['label'] = get_frame_labels(segments, frame_length_secs, entry['offset'], entry['duration'])\n",
    "        new_manifest_data.append(entry)\n",
    "    \n",
    "    output_file = output_dir / manifest_file.name\n",
    "    write_manifest(output_file, new_manifest_data)\n",
    "    "
   ]
  },
  {
   "cell_type": "code",
   "execution_count": 11,
   "metadata": {},
   "outputs": [
    {
     "name": "stdout",
     "output_type": "stream",
     "text": [
      "4\n",
      "/media/data/datasets/sd_eval/VoxConverse_v0.3/example_manifest/voxconv_test_full_manifest.json\n",
      "/media/data/datasets/sd_eval/VoxConverse_v0.3/example_manifest/voxconv_dev_full_manifest.short3.json\n",
      "/media/data/datasets/sd_eval/VoxConverse_v0.3/example_manifest/voxconv_test_full_manifest.short3.json\n",
      "/media/data/datasets/sd_eval/VoxConverse_v0.3/example_manifest/voxconv_dev_full_manifest.json\n"
     ]
    }
   ],
   "source": [
    "input_dir = Path(\"/media/data/datasets/sd_eval/VoxConverse_v0.3/example_manifest\")\n",
    "input_list = list(input_dir.glob(\"*.json\"))\n",
    "print(len(input_list))\n",
    "for manifest_file in input_list:\n",
    "    print(manifest_file)\n",
    "    manifest_data = read_manifest(str(manifest_file))\n",
    "    new_manifest_data = []\n",
    "    for entry in manifest_data:\n",
    "        entry = change_prefix(entry)\n",
    "        segments = load_speech_segments_from_rttm(entry['rttm_filepath'])\n",
    "        if  entry['duration'] is None:\n",
    "            entry['duration'] = librosa.get_duration(filename=entry['audio_filepath'])\n",
    "        if 'offset' not in entry or entry['offset'] is None:\n",
    "            entry['offset'] = 0.0\n",
    "        entry['label'] = get_frame_labels(segments, frame_length_secs, entry['offset'], entry['duration'])\n",
    "        new_manifest_data.append(entry)\n",
    "    \n",
    "    output_file = output_dir / manifest_file.name\n",
    "    write_manifest(output_file, new_manifest_data)"
   ]
  },
  {
   "cell_type": "code",
   "execution_count": null,
   "metadata": {},
   "outputs": [],
   "source": []
  }
 ],
 "metadata": {
  "kernelspec": {
   "display_name": "develop",
   "language": "python",
   "name": "python3"
  },
  "language_info": {
   "codemirror_mode": {
    "name": "ipython",
    "version": 3
   },
   "file_extension": ".py",
   "mimetype": "text/x-python",
   "name": "python",
   "nbconvert_exporter": "python",
   "pygments_lexer": "ipython3",
   "version": "3.8.13"
  },
  "orig_nbformat": 4,
  "vscode": {
   "interpreter": {
    "hash": "2bf5878059d4e9c1f9c41bd997ee15b5cf7f5fa7f22eb5fb573f4f61b5eb976a"
   }
  }
 },
 "nbformat": 4,
 "nbformat_minor": 2
}
