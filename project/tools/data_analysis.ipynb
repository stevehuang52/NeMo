{
 "cells": [
  {
   "cell_type": "code",
   "execution_count": 8,
   "metadata": {},
   "outputs": [],
   "source": [
    "import json\n",
    "from pathlib import Path\n",
    "\n",
    "from matplotlib import pyplot as plt\n",
    "%matplotlib inline\n",
    "\n",
    "import seaborn as sns\n",
    "\n",
    "def load_manifest(filepath):\n",
    "    data = []\n",
    "    with Path(filepath).open(\"r\") as fin:\n",
    "        for line in fin.readlines():\n",
    "            data.append(json.loads(line.strip()))\n",
    "    return data\n",
    "\n",
    "def get_durations(data):\n",
    "    results = []\n",
    "    for item in data:\n",
    "        results.append(item[\"duration\"])\n",
    "    return results\n"
   ]
  },
  {
   "cell_type": "code",
   "execution_count": 7,
   "metadata": {},
   "outputs": [
    {
     "name": "stdout",
     "output_type": "stream",
     "text": [
      "[PosixPath('/media/data/projects/NeMo-vad/project/manifests_draco/french_train_40ms.json'), PosixPath('/media/data/projects/NeMo-vad/project/manifests_draco/german_train_40ms.json'), PosixPath('/media/data/projects/NeMo-vad/project/manifests_draco/mandarin_train_40ms.json'), PosixPath('/media/data/projects/NeMo-vad/project/manifests_draco/russian_train_40ms.json'), PosixPath('/media/data/projects/NeMo-vad/project/manifests_draco/spanish_train_40ms.json')]\n"
     ]
    }
   ],
   "source": [
    "manifests_dir = Path(\"/media/data/projects/NeMo-vad/project/manifests_draco/\")\n",
    "manifests_list = list(manifests_dir.glob(\"*.json\"))\n",
    "manifests_list = [x for x in manifests_list if \"train\" in str(x)]\n",
    "print(manifests_list)"
   ]
  },
  {
   "cell_type": "code",
   "execution_count": 9,
   "metadata": {},
   "outputs": [
    {
     "data": {
      "text/plain": [
       "'french_train_40ms.json'"
      ]
     },
     "execution_count": 9,
     "metadata": {},
     "output_type": "execute_result"
    }
   ],
   "source": [
    "durations = []\n",
    "for manifest in manifests_list:\n",
    "    data = load_manifest(manifest)\n",
    "    durations_i = get_durations(data)\n",
    "    sns.displot(durations_i)"
   ]
  },
  {
   "cell_type": "code",
   "execution_count": null,
   "metadata": {},
   "outputs": [],
   "source": []
  }
 ],
 "metadata": {
  "kernelspec": {
   "display_name": "Python 3 (ipykernel)",
   "language": "python",
   "name": "python3"
  },
  "orig_nbformat": 4,
  "vscode": {
   "interpreter": {
    "hash": "2bf5878059d4e9c1f9c41bd997ee15b5cf7f5fa7f22eb5fb573f4f61b5eb976a"
   }
  }
 },
 "nbformat": 4,
 "nbformat_minor": 2
}
