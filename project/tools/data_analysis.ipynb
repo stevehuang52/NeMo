{
 "cells": [
  {
   "cell_type": "code",
   "execution_count": 46,
   "metadata": {},
   "outputs": [],
   "source": [
    "import json\n",
    "from pathlib import Path\n",
    "\n",
    "from matplotlib import pyplot as plt\n",
    "%matplotlib inline\n",
    "\n",
    "import seaborn as sns\n",
    "\n",
    "def load_manifest(filepath):\n",
    "    data = []\n",
    "    with Path(filepath).open(\"r\") as fin:\n",
    "        for line in fin.readlines():\n",
    "            data.append(json.loads(line.strip()))\n",
    "    return data\n",
    "\n",
    "def get_durations(data):\n",
    "    results = []\n",
    "    for item in data:\n",
    "        results.append(item[\"duration\"])\n",
    "    return results\n",
    "\n",
    "def get_labels(data):\n",
    "    results = []\n",
    "    for item in data:\n",
    "        results.append(item[\"label\"].split())\n",
    "    return results"
   ]
  },
  {
   "cell_type": "code",
   "execution_count": 15,
   "metadata": {},
   "outputs": [
    {
     "name": "stdout",
     "output_type": "stream",
     "text": [
      "['/media/data/projects/NeMo-vad/project/manifests_draco/ami_train_40ms.json', '/media/data/projects/NeMo-vad/project/manifests_draco/ami_train_40ms_cleaned.json', '/media/data/projects/NeMo-vad/project/manifests_draco/fisher_2004_40ms.json', '/media/data/projects/NeMo-vad/project/manifests_draco/fisher_2004_40ms_cleaned.json', '/media/data/projects/NeMo-vad/project/manifests_draco/fisher_2005_40ms.json', '/media/data/projects/NeMo-vad/project/manifests_draco/fisher_2005_40ms_cleaned.json', '/media/data/projects/NeMo-vad/project/manifests_draco/french_train_40ms.json', '/media/data/projects/NeMo-vad/project/manifests_draco/french_train_40ms_cleaned.json', '/media/data/projects/NeMo-vad/project/manifests_draco/german_train_40ms.json', '/media/data/projects/NeMo-vad/project/manifests_draco/icsi_all_40ms.json', '/media/data/projects/NeMo-vad/project/manifests_draco/icsi_all_40ms_cleaned.json', '/media/data/projects/NeMo-vad/project/manifests_draco/mandarin_train_40ms.json', '/media/data/projects/NeMo-vad/project/manifests_draco/mandarin_train_40ms_cleaned.json', '/media/data/projects/NeMo-vad/project/manifests_draco/russian_train_40ms.json', '/media/data/projects/NeMo-vad/project/manifests_draco/spanish_train_40ms.json', '/media/data/projects/NeMo-vad/project/manifests_draco/spanish_train_40ms_cleaned.json']\n"
     ]
    }
   ],
   "source": [
    "manifests_dir = Path(\"/media/data/projects/NeMo-vad/project/manifests_draco/\")\n",
    "manifests_list = list(manifests_dir.glob(\"*.json\"))\n",
    "manifests_list = sorted([str(x) for x in manifests_list if \"train\" in str(x) or \"fisher\" in str(x) or \"icsi\" in str(x)])\n",
    "print(manifests_list)"
   ]
  },
  {
   "cell_type": "code",
   "execution_count": 9,
   "metadata": {},
   "outputs": [
    {
     "data": {
      "text/plain": [
       "'french_train_40ms.json'"
      ]
     },
     "execution_count": 9,
     "metadata": {},
     "output_type": "execute_result"
    }
   ],
   "source": [
    "durations = []\n",
    "for manifest in manifests_list:\n",
    "    data = load_manifest(manifest)\n",
    "    durations_i = get_durations(data)\n",
    "    sns.displot(durations_i)"
   ]
  },
  {
   "cell_type": "code",
   "execution_count": 17,
   "metadata": {},
   "outputs": [
    {
     "name": "stdout",
     "output_type": "stream",
     "text": [
      "Counter({'1': 735334968, '0': 130513341})\n"
     ]
    }
   ],
   "source": [
    "from collections import Counter\n",
    "mamifests_list = [\n",
    "    \"icsi_all_40ms_cleaned.json\", \n",
    "    \"ami_train_40ms_cleaned.json\", \n",
    "    \"fisher_2004_40ms_cleaned.json\",\n",
    "    \"fisher_2005_40ms_cleaned.json\",\n",
    "    \"french_train_40ms_cleaned.json\",\n",
    "    \"german_train_40ms.json\",\n",
    "    \"mandarin_train_40ms_cleaned.json\",\n",
    "    \"russian_train_40ms.json\",\n",
    "    \"spanish_train_40ms_cleaned.json\"\n",
    "    ]\n",
    "\n",
    "data_root = Path(\"/media/data/projects/NeMo-vad/project/manifests_draco/\")\n",
    "all_labels = []\n",
    "for manifest in manifests_list:\n",
    "    manifest_filepath = data_root / Path(manifest)\n",
    "    data = load_manifest(str(manifest_filepath))\n",
    "    for labels in get_labels(data):\n",
    "        all_labels += labels\n",
    "\n",
    "print(Counter(all_labels))"
   ]
  },
  {
   "cell_type": "code",
   "execution_count": 18,
   "metadata": {},
   "outputs": [
    {
     "name": "stdout",
     "output_type": "stream",
     "text": [
      "0.0\n"
     ]
    }
   ],
   "source": [
    "counter = Counter(all_labels)\n",
    "total = counter['0'] + counter['1']\n",
    "print(counter[0] / total)"
   ]
  },
  {
   "cell_type": "code",
   "execution_count": 19,
   "metadata": {},
   "outputs": [
    {
     "name": "stdout",
     "output_type": "stream",
     "text": [
      "0.15073464906426237\n"
     ]
    }
   ],
   "source": [
    "print(counter['0'] / total)"
   ]
  },
  {
   "cell_type": "code",
   "execution_count": 50,
   "metadata": {},
   "outputs": [
    {
     "name": "stdout",
     "output_type": "stream",
     "text": [
      "icsi_all_40ms_cleaned.json 71.13234651042855\n",
      "ami_train_40ms_cleaned.json 69.7192981423723\n",
      "fisher_2004_40ms_cleaned.json 984.3992727737443\n",
      "fisher_2005_40ms_cleaned.json 975.0129316627406\n",
      "french_train_40ms_cleaned.json 688.0881139586156\n",
      "german_train_40ms.json 567.384683333323\n",
      "mandarin_train_40ms_cleaned.json 429.20428550349055\n",
      "russian_train_40ms.json 116.36067777778014\n",
      "spanish_train_40ms_cleaned.json 660.1667013369457\n",
      "total:  4561.46831099944\n"
     ]
    }
   ],
   "source": [
    "from collections import Counter\n",
    "manifests_list2 = [\n",
    "    \"icsi_all_40ms_cleaned.json\", \n",
    "    \"ami_train_40ms_cleaned.json\", \n",
    "    \"fisher_2004_40ms_cleaned.json\",\n",
    "    \"fisher_2005_40ms_cleaned.json\",\n",
    "    \"french_train_40ms_cleaned.json\",\n",
    "    \"german_train_40ms.json\",\n",
    "    \"mandarin_train_40ms_cleaned.json\",\n",
    "    \"russian_train_40ms.json\",\n",
    "    \"spanish_train_40ms_cleaned.json\"\n",
    "    ]\n",
    "\n",
    "data_root = Path(\"/media/data/projects/NeMo-vad/project/manifests_draco/\")\n",
    "\n",
    "total = 0.0\n",
    "for manifest in manifests_list2:\n",
    "    manifest_filepath = data_root / Path(manifest)\n",
    "    data = load_manifest(str(manifest_filepath))\n",
    "    durations = get_durations(data)\n",
    "    print(manifest, sum(durations)/3600)\n",
    "    total += sum(durations)/3600\n",
    "print(\"total: \", total)\n",
    "\n"
   ]
  },
  {
   "cell_type": "code",
   "execution_count": null,
   "metadata": {},
   "outputs": [],
   "source": []
  }
 ],
 "metadata": {
  "kernelspec": {
   "display_name": "Python 3 (ipykernel)",
   "language": "python",
   "name": "python3"
  },
  "language_info": {
   "codemirror_mode": {
    "name": "ipython",
    "version": 3
   },
   "file_extension": ".py",
   "mimetype": "text/x-python",
   "name": "python",
   "nbconvert_exporter": "python",
   "pygments_lexer": "ipython3",
   "version": "3.8.13"
  },
  "orig_nbformat": 4,
  "vscode": {
   "interpreter": {
    "hash": "2bf5878059d4e9c1f9c41bd997ee15b5cf7f5fa7f22eb5fb573f4f61b5eb976a"
   }
  }
 },
 "nbformat": 4,
 "nbformat_minor": 2
}
