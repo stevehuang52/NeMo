{
 "cells": [
  {
   "cell_type": "code",
   "execution_count": 1,
   "metadata": {},
   "outputs": [],
   "source": [
    "import nemo"
   ]
  },
  {
   "cell_type": "code",
   "execution_count": 1,
   "metadata": {},
   "outputs": [
    {
     "name": "stdout",
     "output_type": "stream",
     "text": [
      "AN4 dataset tarfile already exists. Proceed to the next step.\n"
     ]
    }
   ],
   "source": [
    "# This is the working directory for this tutorial. \n",
    "working_dir = 'am_finetuning/'\n",
    "!mkdir -p $working_dir\n",
    "\n",
    "# Import the necessary dependencies.\n",
    "import wget\n",
    "import glob\n",
    "import os\n",
    "import subprocess\n",
    "import tarfile\n",
    "\n",
    "# The AN4 directory will be created in `data_dir`. It is currently set to the `working_dir`.\n",
    "data_dir = os.path.abspath(working_dir)\n",
    "\n",
    "# Download the AN4 dataset if it doesn't already exist in `data_dir`. \n",
    "# This will take a few moments...\n",
    "# We also set `an4_path` which points to the downloaded an4 dataset\n",
    "if not os.path.exists(data_dir + '/an4_sphere.tar.gz'):\n",
    "    an4_url = 'https://dldata-public.s3.us-east-2.amazonaws.com/an4_sphere.tar.gz'\n",
    "    an4_path = wget.download(an4_url, data_dir)\n",
    "    print(f\"AN4 dataset downloaded at: {an4_path}\")\n",
    "else:\n",
    "    print(\"AN4 dataset tarfile already exists. Proceed to the next step.\")\n",
    "    an4_path = data_dir + '/an4_sphere.tar.gz'"
   ]
  },
  {
   "cell_type": "code",
   "execution_count": 3,
   "metadata": {},
   "outputs": [
    {
     "name": "stdout",
     "output_type": "stream",
     "text": [
      "Completed untarring the an4 tarfile\n",
      "Converting .sph to .wav...\n",
      "Finished converting the .sph files to .wav files\n"
     ]
    }
   ],
   "source": [
    "if not os.path.exists(data_dir + '/an4/'):\n",
    "    # Untar\n",
    "    tar = tarfile.open(an4_path)\n",
    "    tar.extractall(path=data_dir)\n",
    "    print(\"Completed untarring the an4 tarfile\")\n",
    "    # Convert .sph to .wav (using sox)\n",
    "    print(\"Converting .sph to .wav...\")\n",
    "    sph_list = glob.glob(data_dir + '/an4/**/*.sph', recursive=True)\n",
    "    for sph_path in sph_list:\n",
    "        wav_path = sph_path[:-4] + '.wav'\n",
    "        #converting to 16kHz wav\n",
    "        cmd = [\"sox\", sph_path, \"-r\", \"16000\", wav_path]\n",
    "        subprocess.run(cmd)\n",
    "    print(\"Finished converting the .sph files to .wav files\")\n",
    "else:\n",
    "    print(\"Can't find the an4 dataset directory. Please download the dataset first\")"
   ]
  },
  {
   "cell_type": "code",
   "execution_count": 10,
   "metadata": {},
   "outputs": [
    {
     "name": "stdout",
     "output_type": "stream",
     "text": [
      "(22050,)\n"
     ]
    }
   ],
   "source": [
    "import librosa\n",
    "sample, _ = librosa.load(\"/home/heh/am_finetuning/an4/wav/an4_clstk/fash/an251-fash-b.sph\", mono=False)\n",
    "print(sample.shape)"
   ]
  },
  {
   "cell_type": "code",
   "execution_count": 8,
   "metadata": {},
   "outputs": [
    {
     "name": "stdout",
     "output_type": "stream",
     "text": [
      "Collecting mutagen\n",
      "  Downloading mutagen-1.46.0-py3-none-any.whl (193 kB)\n",
      "\u001b[K     |████████████████████████████████| 193 kB 14.2 MB/s eta 0:00:01\n",
      "\u001b[?25hInstalling collected packages: mutagen\n",
      "Successfully installed mutagen-1.46.0\n",
      "***Building manifest files***\n",
      "Training manifest created at /home/heh/am_finetuning/an4/train_manifest.json\n",
      "Test manifest created at /home/heh/am_finetuning/an4/test_manifest.json\n",
      "***Done***\n"
     ]
    }
   ],
   "source": [
    "!pip install mutagen\n",
    "from mutagen.wave import WAVE\n",
    "\n",
    "# Import the necessary libraries.\n",
    "import json\n",
    "import librosa\n",
    "\n",
    "# Method to build a manifest.\n",
    "def build_manifest(transcripts_path, manifest_path, wav_path):\n",
    "    with open(transcripts_path, 'r') as fin:\n",
    "        with open(manifest_path, 'w') as fout:\n",
    "            for line in fin:\n",
    "                # Lines look like this:\n",
    "                # <s> transcript </s> (fileID)\n",
    "                transcript = line[: line.find('(')-1].lower()\n",
    "                transcript = transcript.replace('<s>', '').replace('</s>', '')\n",
    "                transcript = transcript.strip()\n",
    "\n",
    "                file_id = line[line.find('(')+1 : -2]  # e.g. \"cen4-fash-b\"\n",
    "                audio_path = os.path.join(\n",
    "                    data_dir, wav_path,\n",
    "                    file_id[file_id.find('-')+1 : file_id.rfind('-')],\n",
    "                    file_id + '.wav')\n",
    "\n",
    "                # duration = librosa.core.get_duration(filename=audio_path)\n",
    "                duration = WAVE(filename=audio_path).info.length\n",
    "                \n",
    "                # Write the metadata to the manifest\n",
    "                metadata = {\n",
    "                    \"audio_filepath\": audio_path,\n",
    "                    \"duration\": duration,\n",
    "                    \"text\": transcript\n",
    "                }\n",
    "                json.dump(metadata, fout)\n",
    "                fout.write('\\n')\n",
    "                \n",
    "# Building the manifest files.\n",
    "print(\"***Building manifest files***\")\n",
    "\n",
    "# Building manifest files for the training data\n",
    "train_transcripts = data_dir + '/an4/etc/an4_train.transcription'\n",
    "train_manifest = data_dir + '/an4/train_manifest.json'\n",
    "if not os.path.isfile(train_manifest):\n",
    "    build_manifest(train_transcripts, train_manifest, 'an4/wav/an4_clstk')\n",
    "    print(\"Training manifest created at\", train_manifest)\n",
    "\n",
    "# Building manifest files for the test data\n",
    "test_transcripts = data_dir + '/an4/etc/an4_test.transcription'\n",
    "test_manifest = data_dir + '/an4/test_manifest.json'\n",
    "if not os.path.isfile(test_manifest):\n",
    "    build_manifest(test_transcripts, test_manifest, 'an4/wav/an4test_clstk')\n",
    "    print(\"Test manifest created at\", test_manifest)\n",
    "\n",
    "print(\"***Done***\")"
   ]
  },
  {
   "cell_type": "code",
   "execution_count": 9,
   "metadata": {},
   "outputs": [
    {
     "name": "stdout",
     "output_type": "stream",
     "text": [
      "100% [....................................................................] 1311166223 / 1311166223Background noise dataset download complete.\n"
     ]
    }
   ],
   "source": [
    "# Download the background noise dataset if it doesn't already exist in `data_dir`. \n",
    "# This will take a few moments...\n",
    "# We also set `noise_path` which points to the downloaded background noise dataset.\n",
    "\n",
    "if not os.path.exists(data_dir + '/rirs_noises.zip'):\n",
    "    slr28_url = 'https://www.openslr.org/resources/28/rirs_noises.zip'\n",
    "    noise_path = wget.download(slr28_url, data_dir)\n",
    "    print(\"Background noise dataset download complete.\")\n",
    "else:\n",
    "    print(\"Background noise dataset already exists. Please proceed to the next step.\")\n",
    "    noise_path = data_dir + '/rirs_noises.zip'"
   ]
  },
  {
   "cell_type": "code",
   "execution_count": 10,
   "metadata": {},
   "outputs": [
    {
     "name": "stdout",
     "output_type": "stream",
     "text": [
      "Extracting noise data complete\n"
     ]
    }
   ],
   "source": [
    "# Extract noise data\n",
    "from zipfile import ZipFile\n",
    "try:\n",
    "    with ZipFile(noise_path, \"r\") as zipObj:\n",
    "        zipObj.extractall(data_dir)\n",
    "        print(\"Extracting noise data complete\")\n",
    "except Exception:\n",
    "    print(\"Not extracting. Extracted noise data might already exist.\")\n"
   ]
  },
  {
   "cell_type": "code",
   "execution_count": 11,
   "metadata": {},
   "outputs": [
    {
     "name": "stdout",
     "output_type": "stream",
     "text": [
      "Writing manifest file to /home/heh/am_finetuning/test_noise.json complete\n",
      "Writing manifest file to /home/heh/am_finetuning/train_noise.json complete\n"
     ]
    }
   ],
   "source": [
    "import json\n",
    "iso_path = os.path.join(data_dir,\"RIRS_NOISES/real_rirs_isotropic_noises\")\n",
    "iso_noise_list = os.path.join(iso_path, \"noise_list\")\n",
    "\n",
    "# Create the manifest files from noise files\n",
    "def process_row(row, offset, duration):\n",
    "  try:\n",
    "    entry = {}\n",
    "    wav_f = row['wav_filename']\n",
    "    newfile = wav_f\n",
    "    duration = subprocess.check_output('soxi -D {0}'.format(newfile), shell=True)\n",
    "    entry['audio_filepath'] = newfile\n",
    "    entry['duration'] = float(duration)\n",
    "    entry['offset'] = offset\n",
    "    entry['text'] = row['transcript']\n",
    "    return entry\n",
    "  except Exception as e:\n",
    "    wav_f = row['wav_filename']\n",
    "    newfile = wav_f\n",
    "    print(f\"Error processing {newfile} file!!!\")\n",
    "    \n",
    "train_rows = []\n",
    "test_rows = []\n",
    "\n",
    "with open(iso_noise_list,\"r\") as in_f:\n",
    "    for line in in_f:\n",
    "        row = {}\n",
    "        data = line.rstrip().split()\n",
    "        row['wav_filename'] = os.path.join(data_dir,data[-1])\n",
    "        row['transcript'] = \"-\"\n",
    "        train_rows.append(process_row(row, 0 , 15))\n",
    "        test_rows.append(process_row(row, 15 , 15))\n",
    "\n",
    "# Writing manifest files\n",
    "def write_manifest(manifest_file, manifest_lines):\n",
    "    with open(manifest_file, 'w') as fout:\n",
    "      for m in manifest_lines:\n",
    "        fout.write(json.dumps(m) + '\\n')\n",
    "      print(\"Writing manifest file to\", manifest_file, \"complete\")\n",
    "\n",
    "# Writing training and test manifest files\n",
    "test_noise_manifest = os.path.join(data_dir, \"test_noise.json\")\n",
    "train_noise_manifest = os.path.join(data_dir, \"train_noise.json\")\n",
    "write_manifest(test_noise_manifest, test_rows)\n",
    "write_manifest(train_noise_manifest, train_rows)"
   ]
  },
  {
   "cell_type": "code",
   "execution_count": 9,
   "metadata": {},
   "outputs": [
    {
     "name": "stdout",
     "output_type": "stream",
     "text": [
      "(8, 661500)\n",
      "2\n",
      "(480000, 8)\n"
     ]
    }
   ],
   "source": [
    "sample, _ = librosa.load(\"/home/heh/am_finetuning/RIRS_NOISES/real_rirs_isotropic_noises/RVB2014_type1_noise_largeroom1_1.wav\", mono=False)\n",
    "print(sample.shape)\n",
    "print(len(sample.shape))\n",
    "import soundfile as sf\n",
    "audio_file = \"/home/heh/am_finetuning/RIRS_NOISES/real_rirs_isotropic_noises/RVB2014_type1_noise_largeroom1_1.wav\"\n",
    "with sf.SoundFile(audio_file, 'r') as f:\n",
    "    dtype = 'float32'\n",
    "    sample_rate = f.samplerate\n",
    "    samples = f.read(dtype=dtype)\n",
    "    print(samples.shape)"
   ]
  },
  {
   "cell_type": "code",
   "execution_count": 14,
   "metadata": {},
   "outputs": [
    {
     "name": "stdout",
     "output_type": "stream",
     "text": [
      "[sudo] password for heh: \n"
     ]
    }
   ],
   "source": [
    "final_data_dir = data_dir + '/noise_data'\n",
    "\n",
    "run = f\"python /workspace/nemo/scripts/dataset_processing/add_noise.py \\\n",
    "    --input_manifest={train_manifest} \\\n",
    "    --noise_manifest={train_noise_manifest} \\\n",
    "    --snrs 5 \\\n",
    "    --out_dir={final_data_dir}\"\n",
    "\n",
    "nemo_container = 'nvcr.io/nvidia/nemo:22.09'\n",
    "\n",
    "! sudo docker run --gpus=all --rm -it -v $data_dir:$data_dir --net=host --ipc=host \\\n",
    "--ulimit memlock=-1 --ulimit stack=67108864 $nemo_container $run"
   ]
  },
  {
   "cell_type": "code",
   "execution_count": 7,
   "metadata": {},
   "outputs": [],
   "source": [
    "from pathlib import Path\n",
    "import json\n",
    "def check_data(manifest_file):\n",
    "    data = []\n",
    "    with Path(manifest_file).open(\"r\") as fin:\n",
    "        for line in fin.readlines():\n",
    "            line = line.strip()\n",
    "            if not line:\n",
    "                continue\n",
    "            data.append(json.loads(line))\n",
    "    cnt = 0\n",
    "    for item in data:\n",
    "        audio_file = item[\"audio_filepath\"]\n",
    "        sample, _ = librosa.load(audio_file, mono=False)\n",
    "        if len(sample.shape) > 1:\n",
    "            print(audio_file, sample.shape)\n",
    "            cnt += 1\n",
    "    print(f\"{cnt}/{len(data)} are not mono-channel audios\")"
   ]
  },
  {
   "cell_type": "code",
   "execution_count": 8,
   "metadata": {},
   "outputs": [
    {
     "name": "stdout",
     "output_type": "stream",
     "text": [
      "/home/heh/am_finetuning/test_noise.json\n",
      "/home/heh/am_finetuning/RIRS_NOISES/real_rirs_isotropic_noises/RVB2014_type1_noise_largeroom1_1.wav (8, 661500)\n",
      "/home/heh/am_finetuning/RIRS_NOISES/real_rirs_isotropic_noises/RVB2014_type1_noise_largeroom1_10.wav (8, 661500)\n",
      "/home/heh/am_finetuning/RIRS_NOISES/real_rirs_isotropic_noises/RVB2014_type1_noise_largeroom1_2.wav (8, 661500)\n",
      "/home/heh/am_finetuning/RIRS_NOISES/real_rirs_isotropic_noises/RVB2014_type1_noise_largeroom1_3.wav (8, 661500)\n",
      "/home/heh/am_finetuning/RIRS_NOISES/real_rirs_isotropic_noises/RVB2014_type1_noise_largeroom1_4.wav (8, 661500)\n",
      "/home/heh/am_finetuning/RIRS_NOISES/real_rirs_isotropic_noises/RVB2014_type1_noise_largeroom1_5.wav (8, 661500)\n",
      "/home/heh/am_finetuning/RIRS_NOISES/real_rirs_isotropic_noises/RVB2014_type1_noise_largeroom1_6.wav (8, 661500)\n",
      "/home/heh/am_finetuning/RIRS_NOISES/real_rirs_isotropic_noises/RVB2014_type1_noise_largeroom1_7.wav (8, 661500)\n",
      "/home/heh/am_finetuning/RIRS_NOISES/real_rirs_isotropic_noises/RVB2014_type1_noise_largeroom1_8.wav (8, 661500)\n",
      "/home/heh/am_finetuning/RIRS_NOISES/real_rirs_isotropic_noises/RVB2014_type1_noise_largeroom1_9.wav (8, 661500)\n",
      "/home/heh/am_finetuning/RIRS_NOISES/real_rirs_isotropic_noises/RVB2014_type1_noise_largeroom2_1.wav (8, 661500)\n",
      "/home/heh/am_finetuning/RIRS_NOISES/real_rirs_isotropic_noises/RVB2014_type1_noise_largeroom2_10.wav (8, 661500)\n",
      "/home/heh/am_finetuning/RIRS_NOISES/real_rirs_isotropic_noises/RVB2014_type1_noise_largeroom2_2.wav (8, 661500)\n",
      "/home/heh/am_finetuning/RIRS_NOISES/real_rirs_isotropic_noises/RVB2014_type1_noise_largeroom2_3.wav (8, 661500)\n",
      "/home/heh/am_finetuning/RIRS_NOISES/real_rirs_isotropic_noises/RVB2014_type1_noise_largeroom2_4.wav (8, 661500)\n",
      "/home/heh/am_finetuning/RIRS_NOISES/real_rirs_isotropic_noises/RVB2014_type1_noise_largeroom2_5.wav (8, 661500)\n",
      "/home/heh/am_finetuning/RIRS_NOISES/real_rirs_isotropic_noises/RVB2014_type1_noise_largeroom2_6.wav (8, 661500)\n",
      "/home/heh/am_finetuning/RIRS_NOISES/real_rirs_isotropic_noises/RVB2014_type1_noise_largeroom2_7.wav (8, 661500)\n",
      "/home/heh/am_finetuning/RIRS_NOISES/real_rirs_isotropic_noises/RVB2014_type1_noise_largeroom2_8.wav (8, 661500)\n",
      "/home/heh/am_finetuning/RIRS_NOISES/real_rirs_isotropic_noises/RVB2014_type1_noise_largeroom2_9.wav (8, 661500)\n",
      "/home/heh/am_finetuning/RIRS_NOISES/real_rirs_isotropic_noises/RVB2014_type1_noise_mediumroom1_1.wav (8, 661500)\n",
      "/home/heh/am_finetuning/RIRS_NOISES/real_rirs_isotropic_noises/RVB2014_type1_noise_mediumroom1_10.wav (8, 661500)\n",
      "/home/heh/am_finetuning/RIRS_NOISES/real_rirs_isotropic_noises/RVB2014_type1_noise_mediumroom1_2.wav (8, 661500)\n",
      "/home/heh/am_finetuning/RIRS_NOISES/real_rirs_isotropic_noises/RVB2014_type1_noise_mediumroom1_3.wav (8, 661500)\n",
      "/home/heh/am_finetuning/RIRS_NOISES/real_rirs_isotropic_noises/RVB2014_type1_noise_mediumroom1_4.wav (8, 661500)\n",
      "/home/heh/am_finetuning/RIRS_NOISES/real_rirs_isotropic_noises/RVB2014_type1_noise_mediumroom1_5.wav (8, 661500)\n",
      "/home/heh/am_finetuning/RIRS_NOISES/real_rirs_isotropic_noises/RVB2014_type1_noise_mediumroom1_6.wav (8, 661500)\n",
      "/home/heh/am_finetuning/RIRS_NOISES/real_rirs_isotropic_noises/RVB2014_type1_noise_mediumroom1_7.wav (8, 661500)\n",
      "/home/heh/am_finetuning/RIRS_NOISES/real_rirs_isotropic_noises/RVB2014_type1_noise_mediumroom1_8.wav (8, 661500)\n",
      "/home/heh/am_finetuning/RIRS_NOISES/real_rirs_isotropic_noises/RVB2014_type1_noise_mediumroom1_9.wav (8, 661500)\n",
      "/home/heh/am_finetuning/RIRS_NOISES/real_rirs_isotropic_noises/RVB2014_type1_noise_mediumroom2_1.wav (8, 661500)\n",
      "/home/heh/am_finetuning/RIRS_NOISES/real_rirs_isotropic_noises/RVB2014_type1_noise_mediumroom2_10.wav (8, 661500)\n",
      "/home/heh/am_finetuning/RIRS_NOISES/real_rirs_isotropic_noises/RVB2014_type1_noise_mediumroom2_2.wav (8, 661500)\n",
      "/home/heh/am_finetuning/RIRS_NOISES/real_rirs_isotropic_noises/RVB2014_type1_noise_mediumroom2_3.wav (8, 661500)\n",
      "/home/heh/am_finetuning/RIRS_NOISES/real_rirs_isotropic_noises/RVB2014_type1_noise_mediumroom2_4.wav (8, 661500)\n",
      "/home/heh/am_finetuning/RIRS_NOISES/real_rirs_isotropic_noises/RVB2014_type1_noise_mediumroom2_5.wav (8, 661500)\n",
      "/home/heh/am_finetuning/RIRS_NOISES/real_rirs_isotropic_noises/RVB2014_type1_noise_mediumroom2_6.wav (8, 661500)\n",
      "/home/heh/am_finetuning/RIRS_NOISES/real_rirs_isotropic_noises/RVB2014_type1_noise_mediumroom2_7.wav (8, 661500)\n",
      "/home/heh/am_finetuning/RIRS_NOISES/real_rirs_isotropic_noises/RVB2014_type1_noise_mediumroom2_8.wav (8, 661500)\n",
      "/home/heh/am_finetuning/RIRS_NOISES/real_rirs_isotropic_noises/RVB2014_type1_noise_mediumroom2_9.wav (8, 661500)\n",
      "/home/heh/am_finetuning/RIRS_NOISES/real_rirs_isotropic_noises/RVB2014_type1_noise_smallroom1_1.wav (8, 661500)\n",
      "/home/heh/am_finetuning/RIRS_NOISES/real_rirs_isotropic_noises/RVB2014_type1_noise_smallroom1_10.wav (8, 661500)\n",
      "/home/heh/am_finetuning/RIRS_NOISES/real_rirs_isotropic_noises/RVB2014_type1_noise_smallroom1_2.wav (8, 661500)\n",
      "/home/heh/am_finetuning/RIRS_NOISES/real_rirs_isotropic_noises/RVB2014_type1_noise_smallroom1_3.wav (8, 661500)\n",
      "/home/heh/am_finetuning/RIRS_NOISES/real_rirs_isotropic_noises/RVB2014_type1_noise_smallroom1_4.wav (8, 661500)\n",
      "/home/heh/am_finetuning/RIRS_NOISES/real_rirs_isotropic_noises/RVB2014_type1_noise_smallroom1_5.wav (8, 661500)\n",
      "/home/heh/am_finetuning/RIRS_NOISES/real_rirs_isotropic_noises/RVB2014_type1_noise_smallroom1_6.wav (8, 661500)\n",
      "/home/heh/am_finetuning/RIRS_NOISES/real_rirs_isotropic_noises/RVB2014_type1_noise_smallroom1_7.wav (8, 661500)\n",
      "/home/heh/am_finetuning/RIRS_NOISES/real_rirs_isotropic_noises/RVB2014_type1_noise_smallroom1_8.wav (8, 661500)\n",
      "/home/heh/am_finetuning/RIRS_NOISES/real_rirs_isotropic_noises/RVB2014_type1_noise_smallroom1_9.wav (8, 661500)\n",
      "/home/heh/am_finetuning/RIRS_NOISES/real_rirs_isotropic_noises/RVB2014_type1_noise_smallroom2_1.wav (8, 661500)\n",
      "/home/heh/am_finetuning/RIRS_NOISES/real_rirs_isotropic_noises/RVB2014_type1_noise_smallroom2_10.wav (8, 661500)\n",
      "/home/heh/am_finetuning/RIRS_NOISES/real_rirs_isotropic_noises/RVB2014_type1_noise_smallroom2_2.wav (8, 661500)\n",
      "/home/heh/am_finetuning/RIRS_NOISES/real_rirs_isotropic_noises/RVB2014_type1_noise_smallroom2_3.wav (8, 661500)\n",
      "/home/heh/am_finetuning/RIRS_NOISES/real_rirs_isotropic_noises/RVB2014_type1_noise_smallroom2_4.wav (8, 661500)\n",
      "/home/heh/am_finetuning/RIRS_NOISES/real_rirs_isotropic_noises/RVB2014_type1_noise_smallroom2_5.wav (8, 661500)\n",
      "/home/heh/am_finetuning/RIRS_NOISES/real_rirs_isotropic_noises/RVB2014_type1_noise_smallroom2_6.wav (8, 661500)\n",
      "/home/heh/am_finetuning/RIRS_NOISES/real_rirs_isotropic_noises/RVB2014_type1_noise_smallroom2_7.wav (8, 661500)\n",
      "/home/heh/am_finetuning/RIRS_NOISES/real_rirs_isotropic_noises/RVB2014_type1_noise_smallroom2_8.wav (8, 661500)\n",
      "/home/heh/am_finetuning/RIRS_NOISES/real_rirs_isotropic_noises/RVB2014_type1_noise_smallroom2_9.wav (8, 661500)\n",
      "/home/heh/am_finetuning/RIRS_NOISES/real_rirs_isotropic_noises/RVB2014_type2_noise_simroom1_1.wav (8, 661500)\n",
      "/home/heh/am_finetuning/RIRS_NOISES/real_rirs_isotropic_noises/RVB2014_type2_noise_simroom1_10.wav (8, 661500)\n",
      "/home/heh/am_finetuning/RIRS_NOISES/real_rirs_isotropic_noises/RVB2014_type2_noise_simroom1_2.wav (8, 661500)\n",
      "/home/heh/am_finetuning/RIRS_NOISES/real_rirs_isotropic_noises/RVB2014_type2_noise_simroom1_3.wav (8, 661500)\n",
      "/home/heh/am_finetuning/RIRS_NOISES/real_rirs_isotropic_noises/RVB2014_type2_noise_simroom1_4.wav (8, 661500)\n",
      "/home/heh/am_finetuning/RIRS_NOISES/real_rirs_isotropic_noises/RVB2014_type2_noise_simroom1_5.wav (8, 661500)\n",
      "/home/heh/am_finetuning/RIRS_NOISES/real_rirs_isotropic_noises/RVB2014_type2_noise_simroom1_6.wav (8, 661500)\n",
      "/home/heh/am_finetuning/RIRS_NOISES/real_rirs_isotropic_noises/RVB2014_type2_noise_simroom1_7.wav (8, 661500)\n",
      "/home/heh/am_finetuning/RIRS_NOISES/real_rirs_isotropic_noises/RVB2014_type2_noise_simroom1_8.wav (8, 661500)\n",
      "/home/heh/am_finetuning/RIRS_NOISES/real_rirs_isotropic_noises/RVB2014_type2_noise_simroom1_9.wav (8, 661500)\n",
      "/home/heh/am_finetuning/RIRS_NOISES/real_rirs_isotropic_noises/RVB2014_type2_noise_simroom2_1.wav (8, 661500)\n",
      "/home/heh/am_finetuning/RIRS_NOISES/real_rirs_isotropic_noises/RVB2014_type2_noise_simroom2_10.wav (8, 661500)\n",
      "/home/heh/am_finetuning/RIRS_NOISES/real_rirs_isotropic_noises/RVB2014_type2_noise_simroom2_2.wav (8, 661500)\n",
      "/home/heh/am_finetuning/RIRS_NOISES/real_rirs_isotropic_noises/RVB2014_type2_noise_simroom2_3.wav (8, 661500)\n",
      "/home/heh/am_finetuning/RIRS_NOISES/real_rirs_isotropic_noises/RVB2014_type2_noise_simroom2_4.wav (8, 661500)\n",
      "/home/heh/am_finetuning/RIRS_NOISES/real_rirs_isotropic_noises/RVB2014_type2_noise_simroom2_5.wav (8, 661500)\n",
      "/home/heh/am_finetuning/RIRS_NOISES/real_rirs_isotropic_noises/RVB2014_type2_noise_simroom2_6.wav (8, 661500)\n",
      "/home/heh/am_finetuning/RIRS_NOISES/real_rirs_isotropic_noises/RVB2014_type2_noise_simroom2_7.wav (8, 661500)\n",
      "/home/heh/am_finetuning/RIRS_NOISES/real_rirs_isotropic_noises/RVB2014_type2_noise_simroom2_8.wav (8, 661500)\n",
      "/home/heh/am_finetuning/RIRS_NOISES/real_rirs_isotropic_noises/RVB2014_type2_noise_simroom2_9.wav (8, 661500)\n",
      "/home/heh/am_finetuning/RIRS_NOISES/real_rirs_isotropic_noises/RVB2014_type2_noise_simroom3_1.wav (8, 661500)\n",
      "/home/heh/am_finetuning/RIRS_NOISES/real_rirs_isotropic_noises/RVB2014_type2_noise_simroom3_10.wav (8, 661500)\n",
      "/home/heh/am_finetuning/RIRS_NOISES/real_rirs_isotropic_noises/RVB2014_type2_noise_simroom3_2.wav (8, 661500)\n",
      "/home/heh/am_finetuning/RIRS_NOISES/real_rirs_isotropic_noises/RVB2014_type2_noise_simroom3_3.wav (8, 661500)\n",
      "/home/heh/am_finetuning/RIRS_NOISES/real_rirs_isotropic_noises/RVB2014_type2_noise_simroom3_4.wav (8, 661500)\n",
      "/home/heh/am_finetuning/RIRS_NOISES/real_rirs_isotropic_noises/RVB2014_type2_noise_simroom3_5.wav (8, 661500)\n",
      "/home/heh/am_finetuning/RIRS_NOISES/real_rirs_isotropic_noises/RVB2014_type2_noise_simroom3_6.wav (8, 661500)\n",
      "/home/heh/am_finetuning/RIRS_NOISES/real_rirs_isotropic_noises/RVB2014_type2_noise_simroom3_7.wav (8, 661500)\n",
      "/home/heh/am_finetuning/RIRS_NOISES/real_rirs_isotropic_noises/RVB2014_type2_noise_simroom3_8.wav (8, 661500)\n",
      "/home/heh/am_finetuning/RIRS_NOISES/real_rirs_isotropic_noises/RVB2014_type2_noise_simroom3_9.wav (8, 661500)\n",
      "/home/heh/am_finetuning/RIRS_NOISES/real_rirs_isotropic_noises/RWCP_type5_noise_cirline_ofc_ambient1.wav (30, 220500)\n",
      "/home/heh/am_finetuning/RIRS_NOISES/real_rirs_isotropic_noises/RWCP_type5_noise_cirline_ofc_ambient2.wav (30, 220500)\n",
      "92/92 are not mono-channel audios\n"
     ]
    }
   ],
   "source": [
    "inputs = [\"/home/heh/am_finetuning/test_noise.json\"]#, \"/home/heh/am_finetuning/train_noise.json\", \"/home/heh/am_finetuning/an4/train_manifest.json\", \"/home/heh/am_finetuning/an4/test_manifest.json\"]\n",
    "for filepath in inputs:\n",
    "    print(filepath)\n",
    "    check_data(filepath)"
   ]
  },
  {
   "cell_type": "code",
   "execution_count": null,
   "metadata": {},
   "outputs": [],
   "source": [
    "\n",
    "\n",
    "sudo docker run --gpus=all --rm -it -v /home/heh/am_finetuning:/home/heh/am_finetuning --net=host --ipc=host \\\n",
    "-v /media/data/projects/NeMo-vad/project/synth_audio_val:/media/data/projects/NeMo-vad/project/synth_audio_val \\\n",
    "--ulimit memlock=-1 --ulimit stack=67108864 gitlab-master.nvidia.com/heh/nemo_containers:nemo-main-22.09 /bin/bash\n",
    "\n",
    "\n",
    "\n",
    "python /workspace/nemo/scripts/dataset_processing/add_noise.py \\\n",
    "    --input_manifest=/home/heh/am_finetuning/an4/train_manifest.json \\\n",
    "    --noise_manifest=/home/heh/am_finetuning/train_noise.json \\\n",
    "    --snrs 5 \\\n",
    "    --out_dir=/home/heh/am_finetuning/output\n",
    "\n",
    "\n",
    "python /workspace/nemo/scripts/dataset_processing/add_noise.py \\\n",
    "    --input_manifest=/media/data/projects/NeMo-vad/project/synth_audio_val/synth_manifest.json \\\n",
    "    --noise_manifest=/media/data/projects/NeMo-vad/project/synth_audio_val/synth_manifest.json \\\n",
    "    --snrs 5 \\\n",
    "    --out_dir=/home/heh/am_finetuning/output"
   ]
  }
 ],
 "metadata": {
  "kernelspec": {
   "display_name": "Python 3 (ipykernel)",
   "language": "python",
   "name": "python3"
  },
  "orig_nbformat": 4
 },
 "nbformat": 4,
 "nbformat_minor": 2
}
