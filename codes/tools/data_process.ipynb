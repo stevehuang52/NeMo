{
 "cells": [
  {
   "cell_type": "code",
   "execution_count": 1,
   "metadata": {},
   "outputs": [],
   "source": [
    "import pandas as pd\n",
    "import json\n",
    "from pathlib import Path"
   ]
  },
  {
   "cell_type": "code",
   "execution_count": 2,
   "metadata": {},
   "outputs": [
    {
     "name": "stdout",
     "output_type": "stream",
     "text": [
      "[PosixPath('/home/heh/github/speechbrain/recipes/SLURP/direct/results/1986/train-type=direct.csv'), PosixPath('/home/heh/github/speechbrain/recipes/SLURP/direct/results/1986/train_synthetic-type=direct.csv'), PosixPath('/home/heh/github/speechbrain/recipes/SLURP/direct/results/1986/train_real-type=direct.csv'), PosixPath('/home/heh/github/speechbrain/recipes/SLURP/direct/results/1986/devel-type=direct.csv'), PosixPath('/home/heh/github/speechbrain/recipes/SLURP/direct/results/1986/test-type=direct.csv')]\n"
     ]
    }
   ],
   "source": [
    "source_csv_dir = Path(\"/home/heh/github/speechbrain/recipes/SLURP/direct/results/1986\")\n",
    "data_dir = (\"/home/heh/datasets/slurp-speechbrain\")\n",
    "\n",
    "csv_list = list(source_csv_dir.glob(\"*.csv\"))\n",
    "print(csv_list)"
   ]
  },
  {
   "cell_type": "code",
   "execution_count": 1,
   "metadata": {},
   "outputs": [],
   "source": [
    "import json\n",
    "def load_manifest(filepath):\n",
    "    data = []\n",
    "    with open(filepath, \"r\") as fin:\n",
    "        for line in fin.readlines():\n",
    "            datum = json.loads(line)\n",
    "            data.append(datum)\n",
    "\n",
    "    return data"
   ]
  },
  {
   "cell_type": "markdown",
   "metadata": {},
   "source": []
  },
  {
   "cell_type": "code",
   "execution_count": 16,
   "metadata": {},
   "outputs": [
    {
     "name": "stdout",
     "output_type": "stream",
     "text": [
      "50628 samples\n",
      "40.22760474722184 hours\n",
      "69253 samples\n",
      "44.442141661110725 hours\n",
      "119881 samples\n",
      "84.66974640833308 hours\n"
     ]
    }
   ],
   "source": [
    "train1 = \"../manifests/train_real_asr.json\"\n",
    "train2 = \"../manifests/train_synthetic_asr.json\"\n",
    "data1 = load_manifest(train1) \n",
    "data2 = load_manifest(train2)\n",
    "data = data1 + data2\n",
    "durations1 = [d[\"duration\"] for d in data1]\n",
    "durations2 = [d[\"duration\"] for d in data2]\n",
    "durations = [d[\"duration\"] for d in data]\n",
    "print(len(data1), \"samples\")\n",
    "print(f\"{sum(durations1) / 3600} hours\")\n",
    "print(len(data2), \"samples\")\n",
    "print(f\"{sum(durations2) / 3600} hours\")\n",
    "print(len(data), \"samples\")\n",
    "print(f\"{sum(durations) / 3600} hours\")"
   ]
  },
  {
   "cell_type": "code",
   "execution_count": 8,
   "metadata": {},
   "outputs": [
    {
     "name": "stdout",
     "output_type": "stream",
     "text": [
      "8690 samples\n",
      "6.902020319444427 hours\n"
     ]
    }
   ],
   "source": [
    "filepath = \"../manifests/dev_asr.json\"\n",
    "data = load_manifest(filepath)\n",
    "durations = [d[\"duration\"] for d in data]\n",
    "print(len(data), \"samples\")\n",
    "print(f\"{sum(durations) / 3600} hours\")"
   ]
  },
  {
   "cell_type": "code",
   "execution_count": 9,
   "metadata": {},
   "outputs": [
    {
     "name": "stdout",
     "output_type": "stream",
     "text": [
      "13078 samples\n",
      "10.253316301110935 hours\n"
     ]
    }
   ],
   "source": [
    "filepath = \"../manifests/test_asr.json\"\n",
    "data = load_manifest(filepath)\n",
    "durations = [d[\"duration\"] for d in data]\n",
    "print(len(data), \"samples\")\n",
    "print(f\"{sum(durations) / 3600} hours\")"
   ]
  },
  {
   "cell_type": "code",
   "execution_count": 6,
   "metadata": {},
   "outputs": [
    {
     "data": {
      "text/plain": [
       "<seaborn.axisgrid.FacetGrid at 0x7fcc06c078b0>"
      ]
     },
     "execution_count": 6,
     "metadata": {},
     "output_type": "execute_result"
    },
    {
     "data": {
      "image/png": "[encoded data removed]",
      "text/plain": [
       "<Figure size 360x360 with 1 Axes>"
      ]
     },
     "metadata": {
      "needs_background": "light"
     },
     "output_type": "display_data"
    }
   ],
   "source": [
    "import seaborn as sns\n",
    "sns.displot(durations, kind=\"ecdf\")"
   ]
  },
  {
   "cell_type": "code",
   "execution_count": 13,
   "metadata": {},
   "outputs": [
    {
     "name": "stdout",
     "output_type": "stream",
     "text": [
      "[{'id': '10', 'slurp_id': '7874', 'audio_filepath': 'wavs/slurp_real/audio-1490262086-headset.wav', 'text': 'i need an event three days from now scheduled with amy', 'semantics': {'scenario': 'calendar', 'action': 'set', 'entities': [{'type': 'date', 'filler': 'three days from now'}, {'type': 'person', 'filler': 'amy'}]}, 'duration': 3.328}]\n"
     ]
    }
   ],
   "source": [
    "print(data[10:11])\n",
    "corpus = [d[\"text\"] for d in data]"
   ]
  },
  {
   "cell_type": "code",
   "execution_count": 15,
   "metadata": {},
   "outputs": [
    {
     "name": "stdout",
     "output_type": "stream",
     "text": [
      "6715\n"
     ]
    }
   ],
   "source": [
    "vocabulary = sorted(set(\" \".join(corpus).split()))\n",
    "print(len(vocabulary))"
   ]
  },
  {
   "cell_type": "code",
   "execution_count": null,
   "metadata": {},
   "outputs": [],
   "source": []
  },
  {
   "cell_type": "markdown",
   "metadata": {},
   "source": [
    "# Generate BIO Annotation for NLU"
   ]
  },
  {
   "cell_type": "code",
   "execution_count": 2,
   "metadata": {},
   "outputs": [
    {
     "name": "stdout",
     "output_type": "stream",
     "text": [
      "119842\n"
     ]
    }
   ],
   "source": [
    "from pathlib import Path\n",
    "output_dir = Path('../manifests_nlu_bio2')\n",
    "output_dir.mkdir(exist_ok=True, parents=True)\n",
    "\n",
    "train_file1 = '../manifests_nlu_cleaned/train_real_nlu_oracle.json'\n",
    "train_file2 = '../manifests_nlu_cleaned/train_synth_nlu_oracle.json'\n",
    "\n",
    "train_data = load_manifest(train_file1) + load_manifest(train_file2)\n",
    "print(len(train_data))\n",
    "# get intent and slot mapping\n",
    "\n",
    "def dump_dict_csv(data, filepath):\n",
    "    with Path(filepath).open(\"w\") as fout:\n",
    "        for d in data:\n",
    "            fout.write(f\"{d}\\n\")\n",
    "\n",
    "all_intents = set()\n",
    "all_slots = set()\n",
    "for datum in train_data:\n",
    "    datum = datum[\"semantics\"]\n",
    "    intent = f\"{datum['scenario']}_{datum['action']}\"\n",
    "    all_intents.add(intent)\n",
    "    for entity in datum['entities']:\n",
    "        slot = entity[\"type\"]\n",
    "        all_slots.add(f\"B-{slot}\")\n",
    "        all_slots.add(f\"I-{slot}\")\n",
    "\n",
    "all_intents = [\"UNK\"] + sorted(list(all_intents)) \n",
    "all_slots = sorted(list(all_slots)) + [\"O\"]\n",
    "\n",
    "output_intents = output_dir / Path(\"dict.intents.csv\")\n",
    "output_slots = output_dir / Path(\"dict.slots.csv\")\n",
    "\n",
    "dump_dict_csv(all_intents, output_intents)\n",
    "dump_dict_csv(all_slots, output_slots)\n"
   ]
  },
  {
   "cell_type": "code",
   "execution_count": 3,
   "metadata": {},
   "outputs": [
    {
     "name": "stdout",
     "output_type": "stream",
     "text": [
      "70 113\n"
     ]
    }
   ],
   "source": [
    "print(len(all_intents), len(all_slots))"
   ]
  },
  {
   "cell_type": "code",
   "execution_count": 11,
   "metadata": {},
   "outputs": [],
   "source": [
    "\n",
    "def sentence_to_bio(sentence: str, entities: list):\n",
    "    anno = {}\n",
    "    words = sentence.lower().split()\n",
    "    for entity in entities:\n",
    "        slot = entity[\"type\"]\n",
    "        fillers = entity[\"filler\"].lower().split()\n",
    "        try:\n",
    "            start_idx = words.index(fillers[0])\n",
    "        except:\n",
    "            print(sentence)\n",
    "            print(entities)\n",
    "            raise ValueError(f\"filler {fillers[0]} not found in text: {sentence}\")\n",
    "        \n",
    "        anno[start_idx] = f\"B-{slot}\"\n",
    "        for idx in range(start_idx + 1, start_idx + len(fillers)):\n",
    "            anno[idx] = f\"I-{slot}\"\n",
    "    \n",
    "    bios = []\n",
    "    for i in range(len(words)):\n",
    "        if i in anno:\n",
    "            bios.append(anno[i])\n",
    "        else:\n",
    "            bios.append(\"O\")\n",
    "    return bios\n",
    "\n",
    "def str2idx(src, mapping):\n",
    "    return \" \".join([str(mapping.index(s)) for s in src])\n",
    "\n",
    "\n",
    "def convert_to_bio_format(data, split, text_key=\"text\", parse_slots=True):\n",
    "    out_file = output_dir / Path(f\"{split}.tsv\")\n",
    "    out_file_slots = output_dir / Path(f\"{split}_slots.tsv\")\n",
    "    out_file_slots_raw = output_dir / Path(f\"{split}_slots_raw.tsv\")\n",
    "    text = []\n",
    "    intents = []\n",
    "    slots = []\n",
    "    slots_raw = []\n",
    "    for datum in data:\n",
    "        text.append(datum[text_key])\n",
    "        semantics = datum[\"semantics\"]\n",
    "        intent_i = f\"{semantics['scenario']}_{semantics['action']}\"\n",
    "        intents.append(all_intents.index(intent_i))\n",
    "        if parse_slots:\n",
    "            bio_slots = sentence_to_bio(datum[text_key], semantics[\"entities\"])\n",
    "            slots_raw.append(\" \".join(bio_slots))\n",
    "            slots.append(str2idx(bio_slots, all_slots))\n",
    "\n",
    "    with out_file.open(\"w\") as fout:\n",
    "        fout.write(f\"sentence\\tintent\\n\")\n",
    "        for i in range(len(text)):\n",
    "            if len(text[i].split()) == 0:\n",
    "                text[i] = \"emtpy sentence\"\n",
    "            fout.write(f\"{text[i]}\\t{intents[i]}\\n\")\n",
    "\n",
    "    if parse_slots:\n",
    "        with out_file_slots.open(\"w\") as fout:\n",
    "            for i in range(len(text)):\n",
    "                fout.write(f\"{slots[i]}\\n\")\n",
    "        with out_file_slots_raw.open(\"w\") as fout:\n",
    "            for i in range(len(text)):\n",
    "                fout.write(f\"{slots_raw[i]}\\n\")\n",
    "        \n",
    "        "
   ]
  },
  {
   "cell_type": "code",
   "execution_count": 5,
   "metadata": {},
   "outputs": [],
   "source": [
    "dev_input = Path(\"../manifests_nlu_cleaned/dev_nlu_oracle.json\")\n",
    "dev_data = load_manifest(dev_input)\n",
    "convert_to_bio_format(dev_data, \"dev\", \"text\")"
   ]
  },
  {
   "cell_type": "code",
   "execution_count": 13,
   "metadata": {},
   "outputs": [],
   "source": [
    "dev_input = Path(\"../manifests_nlu_cleaned/test_nlu_ft.json\")\n",
    "dev_data = load_manifest(dev_input)\n",
    "convert_to_bio_format(dev_data, \"test\", \"pred_text\", parse_slots=False)"
   ]
  },
  {
   "cell_type": "code",
   "execution_count": 8,
   "metadata": {},
   "outputs": [],
   "source": [
    "train_input1 = Path(\"../manifests_nlu_cleaned/train_real_nlu_oracle.json\")\n",
    "train_input2 = Path(\"../manifests_nlu_cleaned/train_synth_nlu_oracle.json\")\n",
    "train_data = load_manifest(train_input1) + load_manifest(train_input2)\n",
    "convert_to_bio_format(train_data, \"train\", \"text\")"
   ]
  },
  {
   "cell_type": "code",
   "execution_count": null,
   "metadata": {},
   "outputs": [],
   "source": []
  }
 ],
 "metadata": {
  "interpreter": {
   "hash": "ffcff1afbb72de8a9d849002f92b754e37c222144ef1849a34a5c2bfb3ca6a46"
  },
  "kernelspec": {
   "display_name": "Python 3.8.0 ('nemo')",
   "language": "python",
   "name": "python3"
  },
  "language_info": {
   "codemirror_mode": {
    "name": "ipython",
    "version": 3
   },
   "file_extension": ".py",
   "mimetype": "text/x-python",
   "name": "python",
   "nbconvert_exporter": "python",
   "pygments_lexer": "ipython3",
   "version": "3.8.0"
  },
  "orig_nbformat": 4
 },
 "nbformat": 4,
 "nbformat_minor": 2
}
