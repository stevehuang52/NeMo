{
 "cells": [
  {
   "cell_type": "code",
   "execution_count": 2,
   "metadata": {},
   "outputs": [],
   "source": [
    "import pandas as pd\n",
    "import json\n",
    "from pathlib import Path"
   ]
  },
  {
   "cell_type": "code",
   "execution_count": 3,
   "metadata": {},
   "outputs": [
    {
     "name": "stdout",
     "output_type": "stream",
     "text": [
      "[PosixPath('/home/heh/github/speechbrain/recipes/SLURP/direct/results/1986/train-type=direct.csv'), PosixPath('/home/heh/github/speechbrain/recipes/SLURP/direct/results/1986/train_synthetic-type=direct.csv'), PosixPath('/home/heh/github/speechbrain/recipes/SLURP/direct/results/1986/train_real-type=direct.csv'), PosixPath('/home/heh/github/speechbrain/recipes/SLURP/direct/results/1986/devel-type=direct.csv'), PosixPath('/home/heh/github/speechbrain/recipes/SLURP/direct/results/1986/test-type=direct.csv')]\n"
     ]
    }
   ],
   "source": [
    "source_csv_dir = Path(\"/home/heh/github/speechbrain/recipes/SLURP/direct/results/1986\")\n",
    "data_dir = (\"/home/heh/datasets/slurp-speechbrain\")\n",
    "\n",
    "csv_list = list(source_csv_dir.glob(\"*.csv\"))\n",
    "print(csv_list)"
   ]
  },
  {
   "cell_type": "code",
   "execution_count": 4,
   "metadata": {},
   "outputs": [],
   "source": [
    "import json\n",
    "def load_manifest(filepath):\n",
    "    data = []\n",
    "    with open(filepath, \"r\") as fin:\n",
    "        for line in fin.readlines():\n",
    "            datum = json.loads(line)\n",
    "            data.append(datum)\n",
    "\n",
    "    return data"
   ]
  },
  {
   "cell_type": "markdown",
   "metadata": {},
   "source": []
  },
  {
   "cell_type": "code",
   "execution_count": 7,
   "metadata": {},
   "outputs": [
    {
     "name": "stdout",
     "output_type": "stream",
     "text": [
      "119881\n",
      "84.66974640833308\n"
     ]
    }
   ],
   "source": [
    "train1 = \"../manifests/train_real_asr.json\"\n",
    "train2 = \"../manifests/train_synthetic_asr.json\"\n",
    "data = load_manifest(train1) + load_manifest(train2)\n",
    "durations = [d[\"duration\"] for d in data]\n",
    "print(len(data), \"samples\")\n",
    "print(f\"{sum(durations) / 3600} hours\")"
   ]
  },
  {
   "cell_type": "code",
   "execution_count": 8,
   "metadata": {},
   "outputs": [
    {
     "name": "stdout",
     "output_type": "stream",
     "text": [
      "8690 samples\n",
      "6.902020319444427 hours\n"
     ]
    }
   ],
   "source": [
    "filepath = \"../manifests/dev_asr.json\"\n",
    "data = load_manifest(filepath)\n",
    "durations = [d[\"duration\"] for d in data]\n",
    "print(len(data), \"samples\")\n",
    "print(f\"{sum(durations) / 3600} hours\")"
   ]
  },
  {
   "cell_type": "code",
   "execution_count": 9,
   "metadata": {},
   "outputs": [
    {
     "name": "stdout",
     "output_type": "stream",
     "text": [
      "13078 samples\n",
      "10.253316301110935 hours\n"
     ]
    }
   ],
   "source": [
    "filepath = \"../manifests/test_asr.json\"\n",
    "data = load_manifest(filepath)\n",
    "durations = [d[\"duration\"] for d in data]\n",
    "print(len(data), \"samples\")\n",
    "print(f\"{sum(durations) / 3600} hours\")"
   ]
  },
  {
   "cell_type": "code",
   "execution_count": 6,
   "metadata": {},
   "outputs": [
    {
     "data": {
      "text/plain": [
       "<seaborn.axisgrid.FacetGrid at 0x7fcc06c078b0>"
      ]
     },
     "execution_count": 6,
     "metadata": {},
     "output_type": "execute_result"
    },
    {
     "data": {
      "image/png": "[encoded data removed]",
      "text/plain": [
       "<Figure size 360x360 with 1 Axes>"
      ]
     },
     "metadata": {
      "needs_background": "light"
     },
     "output_type": "display_data"
    }
   ],
   "source": [
    "import seaborn as sns\n",
    "sns.displot(durations, kind=\"ecdf\")"
   ]
  },
  {
   "cell_type": "code",
   "execution_count": 1,
   "metadata": {},
   "outputs": [
    {
     "ename": "NameError",
     "evalue": "name 'durations' is not defined",
     "output_type": "error",
     "traceback": [
      "\u001b[0;31m---------------------------------------------------------------------------\u001b[0m",
      "\u001b[0;31mNameError\u001b[0m                                 Traceback (most recent call last)",
      "\u001b[1;32m/home/heh/github/NeMo/codes/tools/data_process.ipynb Cell 7'\u001b[0m in \u001b[0;36m<cell line: 3>\u001b[0;34m()\u001b[0m\n\u001b[1;32m      <a href='vscode-notebook-cell://ssh-remote%2B7b22686f73744e616d65223a2252656d6f74654465736b746f70227d/home/heh/github/NeMo/codes/tools/data_process.ipynb#ch0000006vscode-remote?line=0'>1</a>\u001b[0m max_t \u001b[39m=\u001b[39m \u001b[39m8\u001b[39m\n\u001b[1;32m      <a href='vscode-notebook-cell://ssh-remote%2B7b22686f73744e616d65223a2252656d6f74654465736b746f70227d/home/heh/github/NeMo/codes/tools/data_process.ipynb#ch0000006vscode-remote?line=1'>2</a>\u001b[0m min_t \u001b[39m=\u001b[39m \u001b[39m0.1\u001b[39m\n\u001b[0;32m----> <a href='vscode-notebook-cell://ssh-remote%2B7b22686f73744e616d65223a2252656d6f74654465736b746f70227d/home/heh/github/NeMo/codes/tools/data_process.ipynb#ch0000006vscode-remote?line=2'>3</a>\u001b[0m filtered \u001b[39m=\u001b[39m [t \u001b[39mfor\u001b[39;00m t \u001b[39min\u001b[39;00m durations \u001b[39mif\u001b[39;00m min_t \u001b[39m<\u001b[39m\u001b[39m=\u001b[39m t \u001b[39m<\u001b[39m\u001b[39m=\u001b[39m max_t]\n\u001b[1;32m      <a href='vscode-notebook-cell://ssh-remote%2B7b22686f73744e616d65223a2252656d6f74654465736b746f70227d/home/heh/github/NeMo/codes/tools/data_process.ipynb#ch0000006vscode-remote?line=3'>4</a>\u001b[0m \u001b[39mprint\u001b[39m(\u001b[39mf\u001b[39m\u001b[39m\"\u001b[39m\u001b[39m{\u001b[39;00m\u001b[39mlen\u001b[39m(filtered)\u001b[39m/\u001b[39m\u001b[39mlen\u001b[39m(durations)\u001b[39m}\u001b[39;00m\u001b[39m\"\u001b[39m)\n\u001b[1;32m      <a href='vscode-notebook-cell://ssh-remote%2B7b22686f73744e616d65223a2252656d6f74654465736b746f70227d/home/heh/github/NeMo/codes/tools/data_process.ipynb#ch0000006vscode-remote?line=4'>5</a>\u001b[0m \u001b[39mprint\u001b[39m(\u001b[39mf\u001b[39m\u001b[39m\"\u001b[39m\u001b[39m{\u001b[39;00m\u001b[39msum\u001b[39m(durations) \u001b[39m/\u001b[39m \u001b[39m3600\u001b[39m\u001b[39m}\u001b[39;00m\u001b[39m\"\u001b[39m)\n",
      "\u001b[0;31mNameError\u001b[0m: name 'durations' is not defined"
     ]
    }
   ],
   "source": [
    "max_t = 8\n",
    "min_t = 0.1\n",
    "filtered = [t for t in durations if min_t <= t <= max_t]\n",
    "print(f\"{len(filtered)/len(durations)}\")\n",
    "print(f\"{sum(durations) / 3600}\")"
   ]
  },
  {
   "cell_type": "code",
   "execution_count": null,
   "metadata": {},
   "outputs": [],
   "source": []
  }
 ],
 "metadata": {
  "interpreter": {
   "hash": "ffcff1afbb72de8a9d849002f92b754e37c222144ef1849a34a5c2bfb3ca6a46"
  },
  "kernelspec": {
   "display_name": "Python 3.8.0 ('nemo')",
   "language": "python",
   "name": "python3"
  },
  "language_info": {
   "codemirror_mode": {
    "name": "ipython",
    "version": 3
   },
   "file_extension": ".py",
   "mimetype": "text/x-python",
   "name": "python",
   "nbconvert_exporter": "python",
   "pygments_lexer": "ipython3",
   "version": "3.8.0"
  },
  "orig_nbformat": 4
 },
 "nbformat": 4,
 "nbformat_minor": 2
}
