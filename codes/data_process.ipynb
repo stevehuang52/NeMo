{
 "cells": [
  {
   "cell_type": "code",
   "execution_count": 2,
   "metadata": {},
   "outputs": [],
   "source": [
    "import pandas as pd\n",
    "import json\n",
    "from pathlib import Path"
   ]
  },
  {
   "cell_type": "code",
   "execution_count": 3,
   "metadata": {},
   "outputs": [
    {
     "name": "stdout",
     "output_type": "stream",
     "text": [
      "[PosixPath('/home/heh/github/speechbrain/recipes/SLURP/direct/results/1986/train-type=direct.csv'), PosixPath('/home/heh/github/speechbrain/recipes/SLURP/direct/results/1986/train_synthetic-type=direct.csv'), PosixPath('/home/heh/github/speechbrain/recipes/SLURP/direct/results/1986/train_real-type=direct.csv'), PosixPath('/home/heh/github/speechbrain/recipes/SLURP/direct/results/1986/devel-type=direct.csv'), PosixPath('/home/heh/github/speechbrain/recipes/SLURP/direct/results/1986/test-type=direct.csv')]\n"
     ]
    }
   ],
   "source": [
    "source_csv_dir = Path(\"/home/heh/github/speechbrain/recipes/SLURP/direct/results/1986\")\n",
    "data_dir = (\"/home/heh/datasets/slurp-speechbrain\")\n",
    "\n",
    "csv_list = list(source_csv_dir.glob(\"*.csv\"))\n",
    "print(csv_list)"
   ]
  },
  {
   "cell_type": "code",
   "execution_count": null,
   "metadata": {},
   "outputs": [],
   "source": []
  }
 ],
 "metadata": {
  "interpreter": {
   "hash": "ffcff1afbb72de8a9d849002f92b754e37c222144ef1849a34a5c2bfb3ca6a46"
  },
  "kernelspec": {
   "display_name": "Python 3.8.0 ('nemo')",
   "language": "python",
   "name": "python3"
  },
  "language_info": {
   "codemirror_mode": {
    "name": "ipython",
    "version": 3
   },
   "file_extension": ".py",
   "mimetype": "text/x-python",
   "name": "python",
   "nbconvert_exporter": "python",
   "pygments_lexer": "ipython3",
   "version": "3.8.0"
  },
  "orig_nbformat": 4
 },
 "nbformat": 4,
 "nbformat_minor": 2
}
